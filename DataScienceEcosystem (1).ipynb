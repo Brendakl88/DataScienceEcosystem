{
 "cells": [
  {
   "cell_type": "markdown",
   "metadata": {},
   "source": [
    "<center>\n",
    "    <img src=\"https://cf-courses-data.s3.us.cloud-object-storage.appdomain.cloud/IBMDeveloperSkillsNetwork-DS0105EN-SkillsNetwork/labs/Module2/images/SN_web_lightmode.png\" width=\"300\" alt=\"cognitiveclass.ai logo\">\n",
    "</center>\n"
   ]
  },
  {
   "cell_type": "markdown",
   "metadata": {},
   "source": [
    "# Hands-on Lab: Create your Jupyter Notebook\n"
   ]
  },
  {
   "cell_type": "markdown",
   "metadata": {},
   "source": [
    "#### Add your code below following the instructions given in the course\n"
   ]
  },
  {
   "cell_type": "markdown",
   "metadata": {},
   "source": [
    "# H1: **Data Science Tools and Ecosystem**\n"
   ]
  },
  {
   "cell_type": "markdown",
   "metadata": {},
   "source": [
    "## H2: **Autor:**\n",
    "*BRENDA GARCIA CRUZ*\n"
   ]
  },
  {
   "cell_type": "markdown",
   "metadata": {},
   "source": [
    "\n",
    "*Este cuaderno es un ejercicio de laboratorio del curso \"Herramientas para la Ciencia de Datos\"*\n"
   ]
  },
  {
   "cell_type": "markdown",
   "metadata": {},
   "source": [
    "### H3: __Objetivos:__\n",
    "* Crear un cuaderno Jupyter con markdown y celdas de código\n",
    "* Enumere ejemplos de lenguajes, bibliotecas y herramientas utilizados en la Ciencia de Datos\n",
    "* Comparta su Jupyter Notebook públicamente en GitHub\n",
    "* Evalúe los cuadernos presentados por sus compañeros utilizando la rúbrica proporcionada\n",
    "* Demostrar competencia en el conocimiento del conjunto de herramientas de Ciencia de Datos"
   ]
  },
  {
   "cell_type": "markdown",
   "metadata": {},
   "source": [
    "#### H4: Algunos de los lenguajes de programación más utilizados en Ciencia de Datos son los siguientes:\n",
    "1. Phyton\n",
    "2. JavaScript\n",
    "3. Jupyter Notebook\n",
    "4. R Studio\n",
    "5. SQL\n",
    "6. PHP\n",
    "7. C#"
   ]
  },
  {
   "cell_type": "markdown",
   "metadata": {},
   "source": [
    "Copyright ©2024 IBM Corporation. All rights reserved.\n"
   ]
  },
  {
   "cell_type": "markdown",
   "metadata": {},
   "source": [
    "#### H4: A continuación se enlistan las **bibliotecas** más utilizadas en Ciencia de Datos:\n",
    "1. Pandas\n",
    "2. Numpy\n",
    "3. Plotly\n",
    "4. Scikit-learn\n",
    "5. Category-encoders\n",
    "6. Imbalance Learning\n",
    "7. LightGBM / XGBoost\n",
    "8. Keras / Tensorflow\n",
    "9. Shap\n",
    "10. AzureML-sdk  "
   ]
  },
  {
   "cell_type": "markdown",
   "metadata": {},
   "source": [
    "\n",
    "                         \n",
    "|  Herramientas_CDatos  |    Algunos Detalles        |\n",
    "|-----------------------|----------------------------|\n",
    "TensorFlow              |Aprendizaje automático      |\n",
    "Scikit-learn            |Código abierto              |             \n",
    "Keras                   |Código abierto              |                \n",
    "Pandas                  |Código abierto              |\n",
    "Matplotlib              |Visualizaciones interactivas|\n",
    "Seaborn                 |\n",
    "NumPy                   |Cálculo científico          |\n",
    "PyTorch                 |                            |\n",
    "Scikit-ridge            |                            |\n"
   ]
  },
  {
   "cell_type": "code",
   "execution_count": null,
   "metadata": {},
   "outputs": [],
   "source": [
    "### H3: Expresiones aritméticas:\n",
    "\n",
    "quotient = 30 / 12\n",
    "print(quotient)"
   ]
  },
  {
   "cell_type": "code",
   "execution_count": 89,
   "metadata": {},
   "outputs": [
    {
     "name": "stdout",
     "output_type": "stream",
     "text": [
      "42\n"
     ]
    }
   ],
   "source": [
    "answer = 30 + 12\n",
    "print(answer)"
   ]
  },
  {
   "cell_type": "code",
   "execution_count": 85,
   "metadata": {},
   "outputs": [
    {
     "name": "stdout",
     "output_type": "stream",
     "text": [
      "17\n"
     ]
    }
   ],
   "source": [
    "seconds = 1202\n",
    "display_minutes = 1042 // 60\n",
    "print(display_minutes)"
   ]
  },
  {
   "cell_type": "code",
   "execution_count": 77,
   "metadata": {},
   "outputs": [
    {
     "name": "stdout",
     "output_type": "stream",
     "text": [
      "1084\n"
     ]
    }
   ],
   "source": [
    "result_2 = 1032 + (26 * 2)\n",
    "print(result_2)"
   ]
  },
  {
   "cell_type": "code",
   "execution_count": 87,
   "metadata": {},
   "outputs": [
    {
     "name": "stdout",
     "output_type": "stream",
     "text": [
      "3\n"
     ]
    }
   ],
   "source": [
    "display_minutes = 200 // 60\n",
    "print(display_minutes)"
   ]
  },
  {
   "cell_type": "code",
   "execution_count": null,
   "metadata": {},
   "outputs": [],
   "source": []
  }
 ],
 "metadata": {
  "kernelspec": {
   "display_name": "Python 3 (ipykernel)",
   "language": "python",
   "name": "python3"
  },
  "language_info": {
   "codemirror_mode": {
    "name": "ipython",
    "version": 3
   },
   "file_extension": ".py",
   "mimetype": "text/x-python",
   "name": "python",
   "nbconvert_exporter": "python",
   "pygments_lexer": "ipython3",
   "version": "3.12.7"
  },
  "prev_pub_hash": "9e1985db9844176462bd1d5863048c9f3d17404bbc6a648be9084b0c42b29347"
 },
 "nbformat": 4,
 "nbformat_minor": 4
}
